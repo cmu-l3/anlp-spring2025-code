{
 "cells": [
  {
   "cell_type": "markdown",
   "metadata": {},
   "source": [
    "# Lecture 4: Recurrent Neural Networks\n",
    "\n",
    "Lecture 4 | CMU ANLP Spring 2025 | Instructor: Sean Welleck\n",
    "\n",
    "### Part 2: Encoder-decoder with attention\n",
    "\n",
    "This is a notebook for [CMU CS11-711 Advanced NLP](https://cmu-l3.github.io/anlp-spring2025/) that trains an encoder-decoder model with attention."
   ]
  },
  {
   "cell_type": "code",
   "execution_count": 16,
   "metadata": {},
   "outputs": [
    {
     "data": {
      "text/plain": [
       "['emma',\n",
       " 'olivia',\n",
       " 'ava',\n",
       " 'isabella',\n",
       " 'sophia',\n",
       " 'charlotte',\n",
       " 'mia',\n",
       " 'amelia',\n",
       " 'harper',\n",
       " 'evelyn']"
      ]
     },
     "execution_count": 16,
     "metadata": {},
     "output_type": "execute_result"
    }
   ],
   "source": [
    "data = open('names.txt').read().splitlines()\n",
    "data[:10]"
   ]
  },
  {
   "cell_type": "code",
   "execution_count": 17,
   "metadata": {},
   "outputs": [],
   "source": [
    "token_to_index = {tok: i for i, tok in enumerate('abcdefghijklmnopqrstuvwxyz')}\n",
    "# Start/stop token\n",
    "token_to_index['[S]'] = 26\n",
    "# Padding token\n",
    "token_to_index['[PAD]'] = 27\n",
    "\n",
    "index_to_token = {i: tok for tok, i in token_to_index.items()}"
   ]
  },
  {
   "cell_type": "markdown",
   "metadata": {},
   "source": [
    "## Task: reversing names\n",
    "\n",
    "Our task will be to reverse a name, e.g.:\n",
    "\n",
    "    sophia -> aihpos\n",
    "\n",
    "To make the model learn an additional simple pattern, we'll also add a noise character after each character of the input, e.g.:\n",
    "\n",
    "    suorpxhziwa -> aihpos\n",
    "\n",
    "As a spoiler, we'll be able to see the model attending to non-noise characters."
   ]
  },
  {
   "cell_type": "code",
   "execution_count": 18,
   "metadata": {},
   "outputs": [
    {
     "data": {
      "text/plain": [
       "(25626, 25626, 25626)"
      ]
     },
     "execution_count": 18,
     "metadata": {},
     "output_type": "execute_result"
    }
   ],
   "source": [
    "import torch\n",
    "\n",
    "def build_dataset(data):\n",
    "    X, Yin, Yout = [], [], []\n",
    "    for item in data:\n",
    "        # The task is to reverse the input\n",
    "        # The input also has a 'noise' token after each token\n",
    "        # The output does not have the noise token\n",
    "        x_tokens = []\n",
    "        for token in item:\n",
    "            x_tokens.append(token)\n",
    "            # Random character\n",
    "            x_tokens.append(random.choice('abcdefghijklmnopqrstuvwxyz'))\n",
    "        y_tokens = ['[S]'] + list(reversed(item)) + ['[S]']\n",
    "\n",
    "        x_indices = [token_to_index[token] for token in x_tokens]\n",
    "        y_indices = [token_to_index[token] for token in y_tokens]\n",
    "        X.append(x_indices)\n",
    "        Yin.append(y_indices[:-1])\n",
    "        Yout.append(y_indices[1:])\n",
    "    return X, Yin, Yout\n",
    "\n",
    "# Split into train, dev, test\n",
    "import random\n",
    "random.seed(123)\n",
    "random.shuffle(data)\n",
    "\n",
    "n1 = int(0.8 * len(data))\n",
    "n2 = int(0.9 * len(data))\n",
    "\n",
    "X_train, Yin_train, Yout_train = build_dataset(data[:n1])\n",
    "X_dev, Yin_dev, Yout_dev = build_dataset(data[n1:n2])\n",
    "X_test, Yin_test, Yout_test = build_dataset(data[n2:])\n",
    "len(X_train), len(Yin_train), len(Yout_train)"
   ]
  },
  {
   "cell_type": "markdown",
   "metadata": {},
   "source": [
    "Walking through simple attention"
   ]
  },
  {
   "cell_type": "code",
   "execution_count": null,
   "metadata": {},
   "outputs": [
    {
     "data": {
      "text/plain": [
       "tensor([[-1.1620, -0.3774, -0.8762,  0.2412, -0.9882, -1.4356],\n",
       "        [ 1.5840, -1.8631,  0.6589, -1.2707, -0.0724,  0.6845]])"
      ]
     },
     "execution_count": 26,
     "metadata": {},
     "output_type": "execute_result"
    }
   ],
   "source": [
    "B = 2\n",
    "Tx = 3\n",
    "D = 6\n",
    "\n",
    "# This is like the encoder hidden states\n",
    "keys = torch.randn((B, Tx, D))\n",
    "values = keys\n",
    "\n",
    "# This is like the current hidden state of the decoder\n",
    "query = torch.randn((B, 1, D))\n",
    "\n",
    "# Dot product attention\n",
    "# (B, Tx, D) x (B, D, 1) -> (B, Tx, 1)\n",
    "dot = torch.bmm(keys, query.transpose(1, 2)) \n",
    "weights = torch.softmax(dot, dim=1)\n",
    "\n",
    "out = torch.sum(weights * values, dim=1) # (B, D)\n",
    "\n",
    "out\n"
   ]
  },
  {
   "cell_type": "code",
   "execution_count": 27,
   "metadata": {},
   "outputs": [
    {
     "data": {
      "text/plain": [
       "tensor([[1.0000],\n",
       "        [1.0000]])"
      ]
     },
     "execution_count": 27,
     "metadata": {},
     "output_type": "execute_result"
    }
   ],
   "source": [
    "weights.sum(dim=1)"
   ]
  },
  {
   "cell_type": "code",
   "execution_count": 47,
   "metadata": {},
   "outputs": [],
   "source": [
    "import torch.nn as nn\n",
    "import torch.nn.functional as F\n",
    "\n",
    "class DotAttention(nn.Module):\n",
    "    def __init__(self):\n",
    "        super(DotAttention, self).__init__()\n",
    "        \n",
    "    def forward(self, query, keys, values):\n",
    "        # query: (B, Ty, D)\n",
    "        # keys: (B, Tx, D)\n",
    "        # values: (B, Tx, D)\n",
    "        dot = torch.bmm(keys, query.transpose(1, 2)) \n",
    "        weights = torch.softmax(dot, dim=1)\n",
    "        out = torch.bmm(weights.transpose(1, 2), values)\n",
    "        return out, weights\n",
    "\n",
    "\n",
    "class EncoderDecoder(nn.Module):\n",
    "    def __init__(self, vocab_size, embed_size, hidden_size):\n",
    "        super(EncoderDecoder, self).__init__()\n",
    "        self.hidden_size = hidden_size\n",
    "        self.embed = nn.Embedding(vocab_size, embed_size)\n",
    "        self.encoder = nn.GRU(embed_size, hidden_size, batch_first=True)\n",
    "        self.decoder = nn.GRU(embed_size, hidden_size, batch_first=True)\n",
    "        self.attention = DotAttention()\n",
    "        self.query = nn.Linear(hidden_size, hidden_size)\n",
    "        self.out = nn.Linear(hidden_size*2, vocab_size)\n",
    "        \n",
    "    def forward(self, X, Yin):\n",
    "        # Encode\n",
    "        X_embed = self.embed(X)\n",
    "        Henc, henc_last = self.encoder(X_embed)\n",
    "        \n",
    "        # Decode\n",
    "        Yin_embed = self.embed(Yin)\n",
    "        Hdec, _ = self.decoder(Yin_embed, henc_last)\n",
    "        \n",
    "        # Attention\n",
    "        query = self.query(Hdec)\n",
    "        context, _ = self.attention(query, Henc, Henc)\n",
    "        \n",
    "        # Combine\n",
    "        out = torch.cat([Hdec, context], dim=2)\n",
    "        out = self.out(out)\n",
    "        return out\n",
    "    \n",
    "    def generate(self, X, max_len=20):\n",
    "        # Encode\n",
    "        X_embed = self.embed(X)\n",
    "        Henc, h = self.encoder(X_embed)\n",
    "        # Initialize with start token\n",
    "        token = torch.tensor([[token_to_index['[S]']]]).to(X.device)\n",
    "        result = []\n",
    "        attentions = []\n",
    "        for i in range(max_len):\n",
    "            token_embed = self.embed(token)\n",
    "            Hdec, h = self.decoder(token_embed, h)\n",
    "\n",
    "            # Attention\n",
    "            query = self.query(Hdec)\n",
    "            context, scores = self.attention(query, Henc, Henc)\n",
    "\n",
    "            # Output\n",
    "            out = torch.cat([Hdec, context], dim=2)\n",
    "            out = self.out(out)\n",
    "\n",
    "            # Select next token (greedy decoding)\n",
    "            token = torch.argmax(out, dim=2)\n",
    "            result.append(token.item())\n",
    "            attentions.append(scores)\n",
    "\n",
    "            if token[0].item() == token_to_index['[S]']:\n",
    "                break\n",
    "\n",
    "        return result, attentions"
   ]
  },
  {
   "cell_type": "markdown",
   "metadata": {},
   "source": [
    "Batching and padding"
   ]
  },
  {
   "cell_type": "code",
   "execution_count": 48,
   "metadata": {},
   "outputs": [
    {
     "data": {
      "text/plain": [
       "(tensor([[18, 20,  7,  2, 14, 20, 19, 17,  0, 22, 27, 27],\n",
       "         [10, 20,  0,  2,  8, 15,  2, 23,  4, 19, 13,  4],\n",
       "         [18,  9,  0, 16, 12, 24,  8, 25, 17, 14,  0, 11]]),\n",
       " tensor([[26,  0, 19, 14,  7, 18, 27],\n",
       "         [26, 13,  4,  2,  8,  0, 10],\n",
       "         [26,  0, 17,  8, 12,  0, 18]]),\n",
       " tensor([[ 0, 19, 14,  7, 18, 26, 27],\n",
       "         [13,  4,  2,  8,  0, 10, 26],\n",
       "         [ 0, 17,  8, 12,  0, 18, 26]]))"
      ]
     },
     "execution_count": 48,
     "metadata": {},
     "output_type": "execute_result"
    }
   ],
   "source": [
    "def pad_batch(X, Yin, Yout):\n",
    "    max_len_x = max(len(x) for x in X)\n",
    "    max_len_y = max(len(y) for y in Yin)\n",
    "    X_pad = torch.tensor([x + [token_to_index['[PAD]']] * (max_len_x - len(x)) for x in X])\n",
    "    Yin_pad = torch.tensor([y + [token_to_index['[PAD]']] * (max_len_y - len(y)) for y in Yin])\n",
    "    Yout_pad = torch.tensor([y + [token_to_index['[PAD]']] * (max_len_y - len(y)) for y in Yout])\n",
    "    return X_pad, Yin_pad, Yout_pad\n",
    "\n",
    "xp, yip, yop = pad_batch(X_train[:3], Yin_train[:3], Yout_train[:3])\n",
    "xp, yip, yop"
   ]
  },
  {
   "cell_type": "markdown",
   "metadata": {},
   "source": [
    "Training loop"
   ]
  },
  {
   "cell_type": "code",
   "execution_count": 49,
   "metadata": {},
   "outputs": [
    {
     "name": "stdout",
     "output_type": "stream",
     "text": [
      "Model parameters: 16444\n",
      "Epoch [1/10], Loss: 0.8871\n",
      "Epoch [1/10], Validation Loss: 0.1182\n",
      "Epoch [2/10], Loss: 0.0664\n",
      "Epoch [2/10], Validation Loss: 0.0403\n",
      "Epoch [3/10], Loss: 0.0325\n",
      "Epoch [3/10], Validation Loss: 0.0119\n",
      "Epoch [4/10], Loss: 0.0158\n",
      "Epoch [4/10], Validation Loss: 0.0094\n",
      "Epoch [5/10], Loss: 0.0120\n",
      "Epoch [5/10], Validation Loss: 0.0069\n",
      "Epoch [6/10], Loss: 0.0073\n",
      "Epoch [6/10], Validation Loss: 0.0039\n",
      "Epoch [7/10], Loss: 0.0030\n",
      "Epoch [7/10], Validation Loss: 0.0044\n",
      "Epoch [8/10], Loss: 0.0013\n",
      "Epoch [8/10], Validation Loss: 0.0012\n",
      "Epoch [9/10], Loss: 0.0008\n",
      "Epoch [9/10], Validation Loss: 0.0009\n",
      "Epoch [10/10], Loss: 0.0005\n",
      "Epoch [10/10], Validation Loss: 0.0007\n"
     ]
    }
   ],
   "source": [
    "import torch.optim as optim\n",
    "\n",
    "model = EncoderDecoder(vocab_size=len(token_to_index), embed_size=32, hidden_size=32)\n",
    "# Count model parameters\n",
    "print(f\"Model parameters: {sum(p.numel() for p in model.parameters())}\")\n",
    "\n",
    "# Hyperparameters\n",
    "learning_rate = 0.001\n",
    "num_epochs = 10\n",
    "batch_size = 8\n",
    "\n",
    "# Loss function and optimizer\n",
    "# NOTE: We ignore the loss whenever the target token is a padding token\n",
    "criterion = nn.CrossEntropyLoss(ignore_index=token_to_index['[PAD]'])\n",
    "\n",
    "optimizer = optim.Adam(model.parameters(), lr=learning_rate)\n",
    "\n",
    "# Learning rate schedule (cosine)\n",
    "scheduler = optim.lr_scheduler.CosineAnnealingLR(optimizer, T_max=num_epochs)\n",
    "\n",
    "# Training loop\n",
    "for epoch in range(num_epochs):\n",
    "    # Reshuffle the data\n",
    "    perm = torch.randperm(len(X_train))\n",
    "    X_train = [X_train[i] for i in perm]\n",
    "    Yin_train = [Yin_train[i] for i in perm]\n",
    "    Yout_train = [Yout_train[i] for i in perm]\n",
    "    \n",
    "    model.train()\n",
    "    total_loss = 0\n",
    "    for i in range(0, len(X_train), batch_size):\n",
    "        X_batch = X_train[i:i+batch_size]\n",
    "        Yin_batch = Yin_train[i:i+batch_size]\n",
    "        Yout_batch = Yout_train[i:i+batch_size]\n",
    "\n",
    "        # Pad batch\n",
    "        X_batch, Yin_batch, Yout_batch = pad_batch(X_batch, Yin_batch, Yout_batch)\n",
    "\n",
    "        # Forward\n",
    "        outputs = model(X_batch, Yin_batch)\n",
    "        outputs = outputs.view(-1, len(token_to_index)) # [batch_size * seq_len, vocab_size]\n",
    "        Y_batch = Yout_batch.view(-1)\n",
    "        loss = criterion(outputs, Y_batch)\n",
    "\n",
    "        # Backward pass and optimization\n",
    "        optimizer.zero_grad()\n",
    "        loss.backward()\n",
    "        optimizer.step()\n",
    "\n",
    "\n",
    "        total_loss += loss.item()\n",
    "        \n",
    "    # Scheduler step\n",
    "    scheduler.step()\n",
    "\n",
    "    avg_loss = total_loss / (len(X_train) // batch_size)\n",
    "    print(f'Epoch [{epoch+1}/{num_epochs}], Loss: {avg_loss:.4f}')\n",
    "\n",
    "    # Evaluate validation loss\n",
    "    eval_loss = 0\n",
    "    model.eval()\n",
    "    with torch.no_grad():\n",
    "        for i in range(0, len(X_dev), batch_size):\n",
    "            X_batch = X_dev[i:i+batch_size]\n",
    "            Yin_batch = Yin_dev[i:i+batch_size]\n",
    "            Yout_batch = Yout_dev[i:i+batch_size]\n",
    "            # Pad batch \n",
    "            X_batch, Yin_batch, Yout_batch = pad_batch(X_batch, Yin_batch, Yout_batch)\n",
    "            outputs = model(X_batch, Yin_batch)\n",
    "\n",
    "            outputs = outputs.view(-1, len(token_to_index))\n",
    "            Y_batch = Yout_batch.view(-1)\n",
    "            loss = criterion(outputs, Y_batch)\n",
    "\n",
    "            eval_loss += loss.item()\n",
    "    avg_eval_loss = eval_loss / (len(X_dev) // batch_size)\n",
    "    print(f'Epoch [{epoch+1}/{num_epochs}], Validation Loss: {avg_eval_loss:.4f}')\n"
   ]
  },
  {
   "cell_type": "markdown",
   "metadata": {},
   "source": [
    "Generation"
   ]
  },
  {
   "cell_type": "code",
   "execution_count": 50,
   "metadata": {},
   "outputs": [
    {
     "name": "stdout",
     "output_type": "stream",
     "text": [
      "kaidence -> ecnediak\n",
      "Correct\n",
      "\n",
      "eretria -> airtere\n",
      "Correct\n",
      "\n",
      "nadiah -> haidan\n",
      "Correct\n",
      "\n",
      "price -> ecirp\n",
      "Correct\n",
      "\n",
      "naja -> ajan\n",
      "Correct\n",
      "\n",
      "masaki -> ikasam\n",
      "Correct\n",
      "\n",
      "rook -> koor\n",
      "Correct\n",
      "\n",
      "yanitza -> aztinay\n",
      "Correct\n",
      "\n",
      "ozzie -> eizzo\n",
      "Correct\n",
      "\n",
      "lazzaro -> orazzal\n",
      "Correct\n",
      "\n"
     ]
    }
   ],
   "source": [
    "# Generate\n",
    "model.eval()\n",
    "with torch.no_grad():\n",
    "    for i in range(10):\n",
    "        x = torch.tensor([X_test[i]])\n",
    "        y, _ = model.generate(x)\n",
    "        y = ''.join([index_to_token[i] for i in y])\n",
    "        # Remove [S] from the end of y\n",
    "        y = y.split('[S]')[0]\n",
    "\n",
    "        # Print original and generated names\n",
    "        print(data[n2+i], end=' -> ')\n",
    "        print(y)\n",
    "        # Check if it was reversed correctly\n",
    "        correct = data[n2+i][::-1] == y\n",
    "        print('Correct' if correct else 'Incorrect')\n",
    "        print()"
   ]
  },
  {
   "cell_type": "markdown",
   "metadata": {},
   "source": [
    "Visualize attention"
   ]
  },
  {
   "cell_type": "code",
   "execution_count": 58,
   "metadata": {},
   "outputs": [
    {
     "name": "stdout",
     "output_type": "stream",
     "text": [
      "romulus -> sulumor\n"
     ]
    }
   ],
   "source": [
    "# Visualize attention for an example\n",
    "\n",
    "import matplotlib.pyplot as plt\n",
    "\n",
    "# Random example index\n",
    "index = torch.randint(0, len(X_test), (1,)).item()\n",
    "\n",
    "model.eval()\n",
    "with torch.no_grad():\n",
    "    x = torch.tensor([X_test[index]])\n",
    "    y, attentions = model.generate(x)\n",
    "\n",
    "    # Print original and generated names\n",
    "    y = ''.join([index_to_token[i] for i in y])\n",
    "    # Remove [S] from the end of y\n",
    "    y = y.split('[S]')[0]\n",
    "    print(data[n2+index], end=' -> ')\n",
    "    print(y)\n",
    "\n",
    "attentions = torch.cat(attentions, dim=2).squeeze().cpu().numpy()"
   ]
  },
  {
   "cell_type": "code",
   "execution_count": null,
   "metadata": {},
   "outputs": [
    {
     "data": {
      "image/png": "[encoded data removed]",
      "text/plain": [
       "<Figure size 600x600 with 2 Axes>"
      ]
     },
     "metadata": {},
     "output_type": "display_data"
    }
   ],
   "source": [
    "xtext = X_test[index]\n",
    "xtext = [index_to_token[i] for i in xtext]\n",
    "ytext = list(y) + ['[S]']\n",
    "\n",
    "# Recall that each column is the attention weights for a token in the output\n",
    "plt.figure(figsize=(6, 6))\n",
    "\n",
    "plt.imshow(attentions, cmap='Greys')\n",
    "# Matplot lib reverses the y-axis, so we need to reverse the labels\n",
    "plt.gca().invert_yaxis()\n",
    "plt.xticks(range(len(ytext)), ytext, rotation=45)\n",
    "\n",
    "# Make the non-noise tokens blue in the yticks, and the noise tokens red\n",
    "plt.yticks(range(len(xtext)), xtext, rotation=45)\n",
    "for i, label in enumerate(plt.gca().get_yticklabels()):\n",
    "    if i % 2 == 0:\n",
    "        label.set_color('black')\n",
    "    else:\n",
    "        label.set_color('red')\n",
    "\n",
    "plt.ylabel('Input')\n",
    "plt.xlabel('Output')\n",
    "\n",
    "plt.title('Attention Visualization\\nString Reversal (noise tokens in red)')\n",
    "\n",
    "plt.colorbar()\n",
    "plt.savefig('attention.png', dpi=300)\n",
    "# plt.show()"
   ]
  }
 ],
 "metadata": {
  "kernelspec": {
   "display_name": "prototype",
   "language": "python",
   "name": "python3"
  },
  "language_info": {
   "codemirror_mode": {
    "name": "ipython",
    "version": 3
   },
   "file_extension": ".py",
   "mimetype": "text/x-python",
   "name": "python",
   "nbconvert_exporter": "python",
   "pygments_lexer": "ipython3",
   "version": "3.10.13"
  }
 },
 "nbformat": 4,
 "nbformat_minor": 2
}
